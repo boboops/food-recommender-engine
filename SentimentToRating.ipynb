{
 "cells": [
  {
   "cell_type": "code",
   "execution_count": 29,
   "metadata": {},
   "outputs": [],
   "source": [
    "import json\n",
    "import csv\n",
    "fileBase = open('food.base','w+')\n",
    "fileTest = open('food.test','w+')\n",
    "with open('output') as json_file,open('datasetCSV.csv') as upicsa:\n",
    "    c=0\n",
    "    upfile = csv.reader(upicsa,delimiter=',')\n",
    "    for (uid,pid,review),dic  in zip(upfile,json_file.readlines()):\n",
    "        d = json.loads(dic)\n",
    "        rating=0\n",
    "        if(\"ErrorCode\" not in d):\n",
    "            if(d[\"Sentiment\"]==\"NEGATIVE\"):\n",
    "                if(d[\"SentimentScore\"][\"Negative\"]>=0.9):\n",
    "                    rating=1\n",
    "                else:\n",
    "                    rating=2\n",
    "            elif(d[\"Sentiment\"]==\"MIXED\" or d[\"Sentiment\"]==\"NEUTRAL\"):\n",
    "                rating=3\n",
    "            elif(d[\"Sentiment\"]==\"POSITIVE\"):\n",
    "                if(d[\"SentimentScore\"][\"Positive\"]>=0.9):\n",
    "                    rating=5\n",
    "                else:\n",
    "                    rating=4\n",
    "            if(c<=90570):\n",
    "                fileBase.write(str(uid))\n",
    "                fileBase.write('\\t')\n",
    "                fileBase.write(str(pid))\n",
    "                fileBase.write('\\t')\n",
    "                fileBase.write(str(rating))\n",
    "                fileBase.write('\\n')\n",
    "            else:\n",
    "                fileTest.write(str(uid))\n",
    "                fileTest.write('\\t')\n",
    "                fileTest.write(str(pid))\n",
    "                fileTest.write('\\t')\n",
    "                fileTest.write(str(rating))\n",
    "                fileTest.write('\\n')            \n",
    "        #if(c<=5):\n",
    "            #print(c,uid,pid,rating)\n",
    "        \"\"\"\n",
    "        if(c==718):\n",
    "            break\"\"\"\n",
    "        c+=1\n",
    "fileBase.close()\n",
    "fileTest.close()"
   ]
  },
  {
   "cell_type": "code",
   "execution_count": null,
   "metadata": {},
   "outputs": [],
   "source": []
  }
 ],
 "metadata": {
  "kernelspec": {
   "display_name": "conda_python3",
   "language": "python",
   "name": "conda_python3"
  },
  "language_info": {
   "codemirror_mode": {
    "name": "ipython",
    "version": 3
   },
   "file_extension": ".py",
   "mimetype": "text/x-python",
   "name": "python",
   "nbconvert_exporter": "python",
   "pygments_lexer": "ipython3",
   "version": "3.6.5"
  }
 },
 "nbformat": 4,
 "nbformat_minor": 2
}
